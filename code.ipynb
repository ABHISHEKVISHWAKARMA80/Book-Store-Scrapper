{
 "cells": [
  {
   "cell_type": "code",
   "execution_count": 5,
   "metadata": {},
   "outputs": [],
   "source": [
    "import requests\n",
    "from tqdm import tqdm #TQDM is a progress bar library with good support for nested loops and Jupyter/IPython notebooks.\n",
    "import pandas as pd\n",
    "import string\n",
    "from bs4 import BeautifulSoup"
   ]
  },
  {
   "cell_type": "code",
   "execution_count": 6,
   "metadata": {},
   "outputs": [],
   "source": [
    "url1=\"http://books.toscrape.com/catalogue/page-\""
   ]
  },
  {
   "cell_type": "code",
   "execution_count": 7,
   "metadata": {
    "scrolled": true
   },
   "outputs": [
    {
     "name": "stderr",
     "output_type": "stream",
     "text": [
      "100%|██████████████████████████████████████████████████████████████████████████████████| 50/50 [01:03<00:00,  1.27s/it]"
     ]
    },
    {
     "name": "stdout",
     "output_type": "stream",
     "text": [
      "1000\n",
      "1000\n",
      "1000\n"
     ]
    },
    {
     "name": "stderr",
     "output_type": "stream",
     "text": [
      "\n"
     ]
    }
   ],
   "source": [
    "img=[]\n",
    "title=[]\n",
    "price=[]\n",
    "for i in tqdm(range(1,51)):\n",
    "    \n",
    "    url=url1+str(i)+\".html\"\n",
    "    \n",
    "    resp=requests.get(url)\n",
    "    book_soup=BeautifulSoup(resp.content)\n",
    "    \n",
    "    l=book_soup.findAll('article',{'class':'product_pod'})\n",
    "    for book in l:\n",
    "        \n",
    "        img.append(book.img.attrs['src'])\n",
    "        \n",
    "        title.append(book.h3.a.attrs['title'])\n",
    "        \n",
    "        price.append(book.findAll('div',{'class':'product_price'})[0].p.text)\n",
    "\n",
    "print(len(img))\n",
    "print(len(title))\n",
    "print(len(price))"
   ]
  },
  {
   "cell_type": "code",
   "execution_count": 8,
   "metadata": {},
   "outputs": [],
   "source": [
    "d={'image_url':img,'book_title':title,'product_price':price}\n",
    "df=pd.DataFrame(d)\n",
    "df.to_csv(\"submission.csv\",index=False)"
   ]
  }
 ],
 "metadata": {
  "kernelspec": {
   "display_name": "Python 3",
   "language": "python",
   "name": "python3"
  },
  "language_info": {
   "codemirror_mode": {
    "name": "ipython",
    "version": 3
   },
   "file_extension": ".py",
   "mimetype": "text/x-python",
   "name": "python",
   "nbconvert_exporter": "python",
   "pygments_lexer": "ipython3",
   "version": "3.7.4"
  }
 },
 "nbformat": 4,
 "nbformat_minor": 2
}
